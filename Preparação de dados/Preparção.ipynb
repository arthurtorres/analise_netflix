{
  "nbformat": 4,
  "nbformat_minor": 0,
  "metadata": {
    "colab": {
      "name": "Preparção_data.ipynb",
      "provenance": [],
      "collapsed_sections": []
    },
    "kernelspec": {
      "name": "python3",
      "display_name": "Python 3"
    }
  },
  "cells": [
    {
      "cell_type": "markdown",
      "metadata": {
        "id": "o2im-mfq3HjV"
      },
      "source": [
        "---\n",
        "Vamos implementar um sistema de recomendação utilizando Cosine-similarity. Vamos utilizar o dataset criado no collab [anterior](https://colab.research.google.com/drive/1W0R5oW4K5goml3EOddxYjotUZegLJF-V?usp=sharing). Entretando precisamos trabalhar com os dados, para facilitar a utilização deste metodo. Faremos isto neste collab.\n",
        "\n",
        "---\n",
        "\n"
      ]
    },
    {
      "cell_type": "markdown",
      "metadata": {
        "id": "ys6iO5jOXFc0"
      },
      "source": [
        "### Preparação de data\n"
      ]
    },
    {
      "cell_type": "markdown",
      "metadata": {
        "id": "YSEgE3IRkr9v"
      },
      "source": [
        "Temos os dados em csv de séries e filmes na Netflix em um unico dataset, criado no collab anterior. Para fazer um sistema de recomendação precisamos unir todo nosso conteúdo que achamos relevante em apenas uma string. Também precisamos eliminar stop words( palavras que não acrescentam ao texto como E, pois, A). Vamos retirar pontuações também para não pesar na nossa matriz. Por fim, vamos eliminar as colunas redundantes, deixando só o Título e o texto concatenado.\n",
        "\n"
      ]
    },
    {
      "cell_type": "markdown",
      "metadata": {
        "id": "G-X63j7iOUmX"
      },
      "source": [
        "O dataset utilizado é o do collab de análise e para facilitar a importação, aloquei o mesmo no meu gitbub. Existem várias maneiras de agregar este dados, utilizei isto por praticidade."
      ]
    },
    {
      "cell_type": "markdown",
      "metadata": {
        "id": "o0jqwbwgOq_w"
      },
      "source": [
        "Importando Bibliotecas utilizadas\n"
      ]
    },
    {
      "cell_type": "code",
      "metadata": {
        "id": "UccnPg_kdmpR"
      },
      "source": [
        "import pandas as pd\n",
        "import calendar\n",
        "from datetime import datetime\n",
        "import calendar"
      ],
      "execution_count": 3,
      "outputs": []
    },
    {
      "cell_type": "markdown",
      "metadata": {
        "id": "-cdqJ7ezO2ZJ"
      },
      "source": [
        "Carregando os dados."
      ]
    },
    {
      "cell_type": "code",
      "metadata": {
        "id": "U_nJZgifgphM"
      },
      "source": [
        "folder = \"https://raw.githubusercontent.com/arthurtorres/Projetos/master/Netflix/data_informacao/dataNetflixLimpa.csv\"\n",
        "\n",
        "dataNetflix = pd.read_csv(folder)\n"
      ],
      "execution_count": 7,
      "outputs": []
    },
    {
      "cell_type": "markdown",
      "metadata": {
        "id": "sQoUhdRPPBc1"
      },
      "source": [
        "Como ID não é uma caractéristica relevante,podemos remove-lo do dataset."
      ]
    },
    {
      "cell_type": "code",
      "metadata": {
        "id": "rsmsywK2g5gG",
        "colab": {
          "base_uri": "https://localhost:8080/",
          "height": 730
        },
        "outputId": "209fcadb-41b9-4ec7-c9c5-578bcb89faf9"
      },
      "source": [
        "dataInicio = dataNetflix.drop(columns =[\"Id\"])\n",
        "dataInicio.head(5)"
      ],
      "execution_count": 8,
      "outputs": [
        {
          "output_type": "execute_result",
          "data": {
            "text/html": [
              "<div>\n",
              "<style scoped>\n",
              "    .dataframe tbody tr th:only-of-type {\n",
              "        vertical-align: middle;\n",
              "    }\n",
              "\n",
              "    .dataframe tbody tr th {\n",
              "        vertical-align: top;\n",
              "    }\n",
              "\n",
              "    .dataframe thead th {\n",
              "        text-align: right;\n",
              "    }\n",
              "</style>\n",
              "<table border=\"1\" class=\"dataframe\">\n",
              "  <thead>\n",
              "    <tr style=\"text-align: right;\">\n",
              "      <th></th>\n",
              "      <th>Tipo</th>\n",
              "      <th>Titulo</th>\n",
              "      <th>Diretor</th>\n",
              "      <th>Elenco</th>\n",
              "      <th>Pais</th>\n",
              "      <th>Ano_Lancamento</th>\n",
              "      <th>Classificação_Indicativa</th>\n",
              "      <th>Duração</th>\n",
              "      <th>Genero</th>\n",
              "      <th>Sinopse</th>\n",
              "      <th>Ano_Netflix</th>\n",
              "      <th>Mês_Netflix</th>\n",
              "      <th>Dia_Netflix</th>\n",
              "    </tr>\n",
              "  </thead>\n",
              "  <tbody>\n",
              "    <tr>\n",
              "      <th>0</th>\n",
              "      <td>Movie</td>\n",
              "      <td>Norm of the North: King Sized Adventure</td>\n",
              "      <td>Richard Finn, Tim Maltby</td>\n",
              "      <td>Alan Marriott, Andrew Toth, Brian Dobson, Cole...</td>\n",
              "      <td>United States, India, South Korea, China</td>\n",
              "      <td>2019</td>\n",
              "      <td>TV-PG</td>\n",
              "      <td>90 min</td>\n",
              "      <td>Children &amp; Family Movies, Comedies</td>\n",
              "      <td>Before planning an awesome wedding for his gra...</td>\n",
              "      <td>2019</td>\n",
              "      <td>9</td>\n",
              "      <td>9</td>\n",
              "    </tr>\n",
              "    <tr>\n",
              "      <th>1</th>\n",
              "      <td>Movie</td>\n",
              "      <td>Jandino: Whatever it Takes</td>\n",
              "      <td>Diretor Desconhecido</td>\n",
              "      <td>Jandino Asporaat</td>\n",
              "      <td>United Kingdom</td>\n",
              "      <td>2016</td>\n",
              "      <td>TV-MA</td>\n",
              "      <td>94 min</td>\n",
              "      <td>Stand-Up Comedy</td>\n",
              "      <td>Jandino Asporaat riffs on the challenges of ra...</td>\n",
              "      <td>2016</td>\n",
              "      <td>9</td>\n",
              "      <td>9</td>\n",
              "    </tr>\n",
              "    <tr>\n",
              "      <th>2</th>\n",
              "      <td>TV Show</td>\n",
              "      <td>Transformers Prime</td>\n",
              "      <td>Diretor Desconhecido</td>\n",
              "      <td>Peter Cullen, Sumalee Montano, Frank Welker, J...</td>\n",
              "      <td>United States</td>\n",
              "      <td>2013</td>\n",
              "      <td>TV-Y7-FV</td>\n",
              "      <td>1 Season</td>\n",
              "      <td>Kids' TV</td>\n",
              "      <td>With the help of three human allies, the Autob...</td>\n",
              "      <td>2018</td>\n",
              "      <td>9</td>\n",
              "      <td>8</td>\n",
              "    </tr>\n",
              "    <tr>\n",
              "      <th>3</th>\n",
              "      <td>TV Show</td>\n",
              "      <td>Transformers: Robots in Disguise</td>\n",
              "      <td>Diretor Desconhecido</td>\n",
              "      <td>Will Friedle, Darren Criss, Constance Zimmer, ...</td>\n",
              "      <td>United States</td>\n",
              "      <td>2016</td>\n",
              "      <td>TV-Y7</td>\n",
              "      <td>1 Season</td>\n",
              "      <td>Kids' TV</td>\n",
              "      <td>When a prison ship crash unleashes hundreds of...</td>\n",
              "      <td>2018</td>\n",
              "      <td>9</td>\n",
              "      <td>8</td>\n",
              "    </tr>\n",
              "    <tr>\n",
              "      <th>4</th>\n",
              "      <td>Movie</td>\n",
              "      <td>#realityhigh</td>\n",
              "      <td>Fernando Lebrija</td>\n",
              "      <td>Nesta Cooper, Kate Walsh, John Michael Higgins...</td>\n",
              "      <td>United States</td>\n",
              "      <td>2017</td>\n",
              "      <td>TV-14</td>\n",
              "      <td>99 min</td>\n",
              "      <td>Comedies</td>\n",
              "      <td>When nerdy high schooler Dani finally attracts...</td>\n",
              "      <td>2017</td>\n",
              "      <td>9</td>\n",
              "      <td>8</td>\n",
              "    </tr>\n",
              "  </tbody>\n",
              "</table>\n",
              "</div>"
            ],
            "text/plain": [
              "      Tipo                                   Titulo  ... Mês_Netflix Dia_Netflix\n",
              "0    Movie  Norm of the North: King Sized Adventure  ...           9           9\n",
              "1    Movie               Jandino: Whatever it Takes  ...           9           9\n",
              "2  TV Show                       Transformers Prime  ...           9           8\n",
              "3  TV Show         Transformers: Robots in Disguise  ...           9           8\n",
              "4    Movie                             #realityhigh  ...           9           8\n",
              "\n",
              "[5 rows x 13 columns]"
            ]
          },
          "metadata": {
            "tags": []
          },
          "execution_count": 8
        }
      ]
    },
    {
      "cell_type": "markdown",
      "metadata": {
        "id": "SfJ0fe_QPW_J"
      },
      "source": [
        "Acredito que o mês e o dia da semana  que a serie foi adicionada pode ser um fator para alguns, logo adicionarei esta coluna, utilizando para isto a biblioteca calendar."
      ]
    },
    {
      "cell_type": "code",
      "metadata": {
        "id": "qn81zPXdxAne"
      },
      "source": [
        "dataInicio['Month_Netflix'] = dataInicio['Mês_Netflix'].apply(lambda x: calendar.month_abbr[x])\n",
        "\n",
        "dataInicio['Weekday'] = pd.to_datetime(dict(year =dataInicio['Ano_Netflix'], month = dataInicio['Mês_Netflix'],\n",
        "                     day=dataInicio['Dia_Netflix'])).apply(lambda x: calendar.day_name[x.weekday()])\n"
      ],
      "execution_count": 9,
      "outputs": []
    },
    {
      "cell_type": "markdown",
      "metadata": {
        "id": "MKvEDxmaQO5l"
      },
      "source": [
        "Vamos aproveitar esta transformação e ver a quantidade de filmes lançadas por dia da semana."
      ]
    },
    {
      "cell_type": "code",
      "metadata": {
        "id": "T0sNMI9e3FW3",
        "colab": {
          "base_uri": "https://localhost:8080/"
        },
        "outputId": "7a76dba9-4cbf-48e6-ad51-8f124baf184d"
      },
      "source": [
        "dataInicio.Weekday.value_counts()"
      ],
      "execution_count": 10,
      "outputs": [
        {
          "output_type": "execute_result",
          "data": {
            "text/plain": [
              "Friday       1910\n",
              "Thursday      854\n",
              "Tuesday       845\n",
              "Wednesday     758\n",
              "Monday        705\n",
              "Saturday      598\n",
              "Sunday        564\n",
              "Name: Weekday, dtype: int64"
            ]
          },
          "metadata": {
            "tags": []
          },
          "execution_count": 10
        }
      ]
    },
    {
      "cell_type": "markdown",
      "metadata": {
        "id": "9Jhn1fCvQVbh"
      },
      "source": [
        "Como era de se esperar, sexta feira tem praticamente um terço dos dados."
      ]
    },
    {
      "cell_type": "markdown",
      "metadata": {
        "id": "7YAUYBgtQgeb"
      },
      "source": [
        "Vamos usar uma função para remover espaçõs sobresalentes de alguams coluans de interesse"
      ]
    },
    {
      "cell_type": "code",
      "metadata": {
        "id": "efp5w4JrAljH"
      },
      "source": [
        "def limpezaVirgulaDataset(dataset,coluna) :\n",
        "  \"\"\"\n",
        "  Função que pega uma coluna do dataset e retira espaços em branco pós e anterior a virgulas\n",
        "  \"\"\"\n",
        "  dataset[coluna]=dataset[coluna].str.replace(\", \",\",\").str.replace(\" ,\", \",\").str.replace(\" \",\"\") \n",
        "\n",
        "\n"
      ],
      "execution_count": 11,
      "outputs": []
    },
    {
      "cell_type": "code",
      "metadata": {
        "id": "ntTm8K0nBBqv"
      },
      "source": [
        "colunaInt = [\"Diretor\",\"Elenco\",\"Pais\",\"Genero\",\"Duração\"]\n",
        "\n",
        "for coluna in colunaInt :\n",
        "  limpezaVirgulaDataset(dataInicio,coluna)\n",
        "\n"
      ],
      "execution_count": 12,
      "outputs": []
    },
    {
      "cell_type": "markdown",
      "metadata": {
        "id": "sABPTrTcQt_x"
      },
      "source": [
        "Por fim, precisamos apenas juntar os dados em uma coluna, com a concatenização dos dados que achamos ter impacto. Pode analisar que o Mês que a serie foi adicionada esta duplicado, pois quero dar mais valor a esta classificação."
      ]
    },
    {
      "cell_type": "code",
      "metadata": {
        "id": "MO4HlLoXBUR1"
      },
      "source": [
        "def JunçãoData(data) :\n",
        "  data[\"objetivo\"] = data[\"Tipo\"]+data[\"Elenco\"]+data[\"Diretor\"]+data[\"Pais\"]+data[\"Genero\"]+data[\"Duração\"]+data[\"Genero\"] +data[\"Month_Netflix\"]*2 +data[\"Classificação_Indicativa\"]+data[\"Weekday\"]\n",
        "\n"
      ],
      "execution_count": 13,
      "outputs": []
    },
    {
      "cell_type": "code",
      "metadata": {
        "id": "ALFF2NlGAosj"
      },
      "source": [
        "JunçãoData(dataInicio)"
      ],
      "execution_count": 14,
      "outputs": []
    },
    {
      "cell_type": "markdown",
      "metadata": {
        "id": "zx5w3E6ERGyJ"
      },
      "source": [
        "Por fim, falta apenas reduzir o dataset para apenas as colunas de interesse Titulo e Objetivo)"
      ]
    },
    {
      "cell_type": "code",
      "metadata": {
        "id": "1bl9jl0CD4KK"
      },
      "source": [
        "dataFinal = dataInicio[[\"Titulo\",\"objetivo\"]]\n",
        "\n"
      ],
      "execution_count": 15,
      "outputs": []
    },
    {
      "cell_type": "markdown",
      "metadata": {
        "id": "McPmRB_tRPj_"
      },
      "source": [
        "Com o dataset finalizado, podemos então exportar a data como queremos. Eu exportarei no github, numa pasta chamada data_informação, para poder utilizar no sistema de recomendação."
      ]
    },
    {
      "cell_type": "code",
      "metadata": {
        "id": "pomOjzgrG8Fq"
      },
      "source": [
        "dataFinal.to_csv(\"data.csv\")"
      ],
      "execution_count": 16,
      "outputs": []
    }
  ]
}