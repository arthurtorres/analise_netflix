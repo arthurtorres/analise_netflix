{
  "nbformat": 4,
  "nbformat_minor": 0,
  "metadata": {
    "colab": {
      "name": "Sistema_Recomendacao.ipynb",
      "provenance": [],
      "collapsed_sections": [],
      "toc_visible": true
    },
    "kernelspec": {
      "name": "python3",
      "display_name": "Python 3"
    }
  },
  "cells": [
    {
      "cell_type": "markdown",
      "metadata": {
        "id": "THQ7aW6lGk2d"
      },
      "source": [
        "---\n",
        "Finalmente estamos prontos para fazer o sistema de recomendação. Vamos carregar os dados produzidos no notebook, e utilizar cosine-similarity para checar a similaridade dos titúlos. Para isto precisamos importar algumas bibliotecas, a saber : Numpy e sklearn.\n",
        "---\n"
      ]
    },
    {
      "cell_type": "markdown",
      "metadata": {
        "id": "U081CyMtRn5Q"
      },
      "source": [
        "Importando Bibliotecas e os dados"
      ]
    },
    {
      "cell_type": "code",
      "metadata": {
        "id": "oops7ebjFNmc"
      },
      "source": [
        "import pandas as pd\n",
        "import numpy as np\n",
        "import pandas as pd\n",
        "from sklearn.feature_extraction.text import CountVectorizer\n",
        "from sklearn.metrics.pairwise import cosine_similarity\n",
        "\n",
        "url = \"https://raw.githubusercontent.com/arthurtorres/Projetos/master/Netflix/data_informacao/data.csv\"\n",
        "data = pd.read_csv(url,sep=\",\")\n",
        "\n",
        "\n"
      ],
      "execution_count": 131,
      "outputs": []
    },
    {
      "cell_type": "markdown",
      "metadata": {
        "id": "8gfxqmbFR6Sq"
      },
      "source": [
        "Vamos então aplicar cosine similarity na coluna objetivo do nosso dataset. Isto criara uma matrix com todos as similaridades entre os titulos, isto é, uma matrix 6234 * 6234"
      ]
    },
    {
      "cell_type": "code",
      "metadata": {
        "colab": {
          "base_uri": "https://localhost:8080/"
        },
        "id": "pUv8I-EfDKXW",
        "outputId": "340dbc62-f3ee-4595-ad65-e0b25c29f86f"
      },
      "source": [
        "\n",
        "cv = CountVectorizer() #creating new CountVectorizer() object\n",
        "count_matrix = cv.fit_transform(data[\"objetivo\"]) #feeding \n",
        "cosines = cosine_similarity(count_matrix,count_matrix)\n",
        "cosines.shape"
      ],
      "execution_count": 132,
      "outputs": [
        {
          "output_type": "execute_result",
          "data": {
            "text/plain": [
              "(6234, 6234)"
            ]
          },
          "metadata": {
            "tags": []
          },
          "execution_count": 132
        }
      ]
    },
    {
      "cell_type": "markdown",
      "metadata": {
        "id": "CG5Ugrg6SmY4"
      },
      "source": [
        "Depois de criado a matrix de similaridade, precisamos tratar do input que receberemos. Receberemos varios titulos, separados por virgula, precisamos então checar se este titulo esta presente e caso positivo, checar suas similaridade. Vamos criar uma função para isto."
      ]
    },
    {
      "cell_type": "code",
      "metadata": {
        "id": "8GD_kb0TT9is"
      },
      "source": [
        "\n",
        "def checkaseries(series) :\n",
        " all_titles = [data['Titulo'][i].lower() for i in range(len(data['Titulo']))]\n",
        "\n",
        " obrasList = []\n",
        " for serie in series :\n",
        "  serie = serie.lower()\n",
        "  if (serie in all_titles) :\n",
        "   obrasList.append(serie)\n",
        " return obrasList\n"
      ],
      "execution_count": 133,
      "outputs": []
    },
    {
      "cell_type": "markdown",
      "metadata": {
        "id": "QpJ9DCGbUAdP"
      },
      "source": [
        "Vamos testar esta função com Hilda e Vikings. Hilda esta no catalogo da netflix e Vikings não esta, então a função deveria nos retornar apenas Hilda."
      ]
    },
    {
      "cell_type": "code",
      "metadata": {
        "colab": {
          "base_uri": "https://localhost:8080/"
        },
        "id": "zGnornLiUkz6",
        "outputId": "8d44ad2f-8625-40ca-9f90-969fc851fc55"
      },
      "source": [
        "checkaseries([\"Hilda\",\"Vikings\"])\n"
      ],
      "execution_count": 134,
      "outputs": [
        {
          "output_type": "execute_result",
          "data": {
            "text/plain": [
              "['hilda']"
            ]
          },
          "metadata": {
            "tags": []
          },
          "execution_count": 134
        }
      ]
    },
    {
      "cell_type": "markdown",
      "metadata": {
        "id": "hr_TOAwEUtjh"
      },
      "source": [
        "A função parece estar funcionando como deveria. Vamos então criar uma função que retorna series similares e o indice da serie procurada, pois precisamos retirar a serie procurada pois a similaridade de uma serie com ela mesma é 1, e por isto ela sempre sera recomenda primeiro. Para uma lista de series, precisamos guardar o indice referente a cada uma delas.\n",
        " "
      ]
    },
    {
      "cell_type": "code",
      "metadata": {
        "id": "_6gXtjjiTLI6"
      },
      "source": [
        "def seriesSimilares(listaObra):\n",
        "\n",
        "  \"\"\"\n",
        "  A partir de uma Lista de obras, retorna o indice dessa serie e seu vetor de series similares.\n",
        "  \"\"\"\n",
        "  recomendacoes = []\n",
        "  indexes = [] \n",
        "  data[\"Titulo\"] = data[\"Titulo\"].str.lower()\n",
        "  for obra in listaObra :\n",
        "    obra = obra.lower()\n",
        "    serie_index = data[data.Titulo == obra].index[0]\n",
        "    similar_movies = list((cosines[serie_index]))\n",
        "    recomendacoes.append(similar_movies)\n",
        "    indexes.append(serie_index)\n",
        "\n",
        "  return recomendacoes,indexes"
      ],
      "execution_count": 135,
      "outputs": []
    },
    {
      "cell_type": "markdown",
      "metadata": {
        "id": "7msQEdbLVP5x"
      },
      "source": [
        "Vamos testar a função com hilda e ver o que ela nos retorna."
      ]
    },
    {
      "cell_type": "code",
      "metadata": {
        "colab": {
          "base_uri": "https://localhost:8080/"
        },
        "id": "0OL3DBNWTFyX",
        "outputId": "5c968c90-322b-48c2-df9f-9b470227d822"
      },
      "source": [
        "recom, ind = seriesSimilares([\"Hilda\"])\n",
        "recom[0][:5]"
      ],
      "execution_count": 136,
      "outputs": [
        {
          "output_type": "execute_result",
          "data": {
            "text/plain": [
              "[0.0, 0.0, 0.2100420126042015, 0.25000000000000006, 0.0]"
            ]
          },
          "metadata": {
            "tags": []
          },
          "execution_count": 136
        }
      ]
    },
    {
      "cell_type": "markdown",
      "metadata": {
        "id": "SHhdR4zuXkna"
      },
      "source": [
        "Essa lista nos mostra que os 5 primeiros indices tem um valor baixo de similaridade com o valor pesquisado, neste caso, Hilda."
      ]
    },
    {
      "cell_type": "markdown",
      "metadata": {
        "id": "sPdceMDHX7bx"
      },
      "source": [
        "Precisamos então, organizar a saida pelos maiores valores, pois indicará uma similaridade maior com o(s) iten(s) pesquisados. Precisamos também retirar os indices dos iten(s) pesquisados para não afetar os dados. Faremos isto numa função."
      ]
    },
    {
      "cell_type": "code",
      "metadata": {
        "id": "8F-g2dLiRs7E"
      },
      "source": [
        "\n",
        "def relevancia(similares,indices) :\n",
        "  \"\"\"\n",
        "  Remove os indices e a lista de similaridade e organiza por ordem de Relevancia\n",
        "  Retorna uma lista\n",
        "  \"\"\"\n",
        "\n",
        "  relevancia =list((enumerate((np.mean(similares,axis =0 )))))\n",
        "              \n",
        "  for index in sorted(indices, reverse=True):\n",
        "      del relevancia[index]\n",
        "\n",
        "  return    sorted(relevancia,key=lambda x:x[1],reverse=True)\n",
        "\n"
      ],
      "execution_count": 137,
      "outputs": []
    },
    {
      "cell_type": "markdown",
      "metadata": {
        "id": "6m520pOOYrJg"
      },
      "source": [
        "Vamos testar com Hilda."
      ]
    },
    {
      "cell_type": "code",
      "metadata": {
        "colab": {
          "base_uri": "https://localhost:8080/"
        },
        "id": "M5tE-634YU05",
        "outputId": "3291352f-d42e-4b16-ac09-83f2a8f9534b"
      },
      "source": [
        "relevancia(recom, ind)[:5]\n"
      ],
      "execution_count": 138,
      "outputs": [
        {
          "output_type": "execute_result",
          "data": {
            "text/plain": [
              "[(307, 0.3872983346207417),\n",
              " (6061, 0.36084391824351614),\n",
              " (1218, 0.3273268353539886),\n",
              " (375, 0.3202563076101743),\n",
              " (180, 0.2886751345948129)]"
            ]
          },
          "metadata": {
            "tags": []
          },
          "execution_count": 138
        }
      ]
    },
    {
      "cell_type": "markdown",
      "metadata": {
        "id": "ZBNipYmqZNRK"
      },
      "source": [
        "Temos então que os filmes mais similares com Hilda são os de indice 307,6061,1218,375 e 180. Precisamos então apenas identificar estes indices no nosso dataset inicial e mostra-los. Faremos isto"
      ]
    },
    {
      "cell_type": "code",
      "metadata": {
        "colab": {
          "base_uri": "https://localhost:8080/"
        },
        "id": "wCY2dI0PSMYn",
        "outputId": "c1dd8323-daf6-49c0-b084-886ade874cd4"
      },
      "source": [
        "\n",
        "fin = relevancia(recom, ind)\n",
        "\n",
        "r3 = [i[0] for i in fin]\n",
        "r3 = r3[:6]\n",
        "names = []\n",
        "res = datas.loc[r3] \n",
        "res = res[[\"Titulo\"]]\t\n",
        "for i in range(len(res)):\n",
        " print(res.iloc[i][0])\n"
      ],
      "execution_count": 139,
      "outputs": [
        {
          "output_type": "stream",
          "text": [
            "Loo Loo Kids: Johny & Friends Musical Adventures\n",
            "The Garfield Show\n",
            "Brainchild\n",
            "LEGO Elves: Secrets of Elvendale\n",
            "Transformers: Rescue Bots\n",
            "The Mr. Peabody and Sherman Show\n"
          ],
          "name": "stdout"
        }
      ]
    },
    {
      "cell_type": "markdown",
      "metadata": {
        "id": "b3vtiVH9e7Ng"
      },
      "source": [
        "Temos que as atrações mais simialres a Hilda em cima. Vamos criar uma função que recebe uma lista separada por vírgulas e retorna as 5 atrações mais similares, isto é as recomendações."
      ]
    },
    {
      "cell_type": "code",
      "metadata": {
        "id": "CrYtlruseVbE"
      },
      "source": [
        "def recomendacoes(series ) :\n",
        "  cv = CountVectorizer() #creating new CountVectorizer() object\n",
        "  count_matrix = cv.fit_transform(data[\"objetivo\"]) #feeding \n",
        "  cosines = cosine_similarity(count_matrix,count_matrix)\n",
        "  serie = series.split(\",\")\n",
        "  Obra = checkaseries(serie)\n",
        "  recom, ind = seriesSimilares(Obra)\n",
        "  fin = relevancia(recom, ind)\n",
        "\n",
        "  r3 = [i[0] for i in fin]\n",
        "  r3 = r3[:6]\n",
        "  res = datas.loc[r3] \n",
        "  res = res[[\"Titulo\"]]\t\n",
        "  print(f\"As obras recomendadas sa partir da seleção :{series} é \\n\")\n",
        "  for i in range(len(res)):\n",
        "   print(res.iloc[i][0])"
      ],
      "execution_count": 140,
      "outputs": []
    },
    {
      "cell_type": "markdown",
      "metadata": {
        "id": "2jcTiPjRgYZG"
      },
      "source": [
        "Teste da função :"
      ]
    },
    {
      "cell_type": "code",
      "metadata": {
        "colab": {
          "base_uri": "https://localhost:8080/"
        },
        "id": "Q8zoM0WZgbSN",
        "outputId": "8c78ee5e-a4d5-4beb-9be5-a924c1886758"
      },
      "source": [
        "series = \"Hilda,Vikings,Umbrella Academy\"\n",
        "recomendacoes(series)"
      ],
      "execution_count": 141,
      "outputs": [
        {
          "output_type": "stream",
          "text": [
            "As obras recomendadas sa partir da seleção :Hilda,Vikings,Umbrella Academy é \n",
            "\n",
            "Loo Loo Kids: Johny & Friends Musical Adventures\n",
            "The Garfield Show\n",
            "Brainchild\n",
            "LEGO Elves: Secrets of Elvendale\n",
            "Transformers: Rescue Bots\n",
            "The Mr. Peabody and Sherman Show\n"
          ],
          "name": "stdout"
        }
      ]
    },
    {
      "cell_type": "markdown",
      "metadata": {
        "id": "iliFf789gpWP"
      },
      "source": [
        "O codigo parece estar funcionando como planejado. O proximo passo seria fazer um site para hospedar esse sistema e obter um sistema de feedback para aprimorar as recomendações."
      ]
    }
  ]
}